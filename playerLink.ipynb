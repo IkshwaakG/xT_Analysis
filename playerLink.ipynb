{
 "cells": [
  {
   "cell_type": "code",
   "execution_count": 1,
   "id": "14bef7c2",
   "metadata": {},
   "outputs": [
    {
     "name": "stdout",
     "output_type": "stream",
     "text": [
      "importing Jupyter notebook from teamLink_23.ipynb\n",
      "{\"standings\":[{\"tournament\":{\"name\":\"Premier League\",\"slug\":\"premier-league\",\"category\":{\"name\":\"England\",\"slug\":\"england\",\"sport\":{\"name\":\"Football\",\"slug\":\"football\",\"id\":1},\"id\":1,\"flag\":\"england\",\"alpha2\":\"EN\"},\"uniqueTournament\":{\"name\":\"Premier League\",\"slug\":\"premier-league\",\"primaryColorHex\":\"#3c1c5a\",\"secondaryColorHex\":\"#f80158\",\"category\":{\"name\":\"England\",\"slug\":\"england\",\"sport\":{\"name\":\"Football\",\"slug\":\"football\",\"id\":1},\"id\":1,\"flag\":\"england\",\"alpha2\":\"EN\"},\"userCount\":1482776,\"hasPerformanceGraphFeature\":true,\"id\":17,\"displayInverseHomeAwayTeams\":false},\"priority\":600,\"id\":1},\"type\":\"total\",\"name\":\"Premier League\",\"descriptions\":[],\"tieBreakingRule\":{\"text\":\"In the event that two (or more) teams have an equal number of points, the following rules break the tie:\\n1. Goal difference\\n2. Goals scored\",\"id\":1238},\"rows\":[{\"team\":{\"name\":\"Liverpool\",\"slug\":\"liverpool\",\"shortName\":\"Liverpool\",\"gender\":\"M\",\"sport\":{\"name\":\"Football\",\"slug\":\"football\",\"id\":1},\"userCount\":1322229,\"nameCode\":\"LIV\",\"disabled\":false,\"national\":false,\"type\":0,\"id\":44,\"teamColors\":{\"primary\":\"#cc0000\",\"secondary\":\"#ffffff\",\"text\":\"#ffffff\"},\"fieldTranslations\":{\"nameTranslation\":{\"ar\":\"\\u0644\\u064a\\u0641\\u0631\\u0628\\u0648\\u0644\"},\"shortNameTranslation\":{}}},\"descriptions\":[],\"promotion\":{\"text\":\"Champions League\",\"id\":804},\"position\":1,\"matches\":21,\"wins\":14,\"scoresFor\":47,\"scoresAgainst\":18,\"id\":866356,\"losses\":1,\"draws\":6,\"points\":48},{\"team\":{\"name\":\"Manchester City\",\"slug\":\"manchester-city\",\"shortName\":\"Man City\",\"gender\":\"M\",\"sport\":{\"name\":\"Football\",\"slug\":\"football\",\"id\":1},\"userCount\":1446388,\"nameCode\":\"MCI\",\"disabled\":false,\"national\":false,\"type\":0,\"id\":17,\"teamColors\":{\"primary\":\"#66ccff\",\"secondary\":\"#ffffff\",\"text\":\"#ffffff\"},\"fieldTranslations\":{\"nameTranslation\":{\"ar\":\"\\u0645\\u0627\\u0646\\u0634\\u0633\\u062a\\u0631 \\u0633\\u064a\\u062a\\u064a\"},\"shortNameTranslation\":{}}},\"descriptions\":[],\"promotion\":{\"text\":\"Champions League\",\"id\":804},\"position\":2,\"matches\":20,\"wins\":13,\"scoresFor\":48,\"scoresAgainst\":23,\"id\":866358,\"losses\":3,\"draws\":4,\"points\":43},{\"team\":{\"name\":\"Arsenal\",\"slug\":\"arsenal\",\"shortName\":\"Arsenal\",\"gender\":\"M\",\"sport\":{\"name\":\"Football\",\"slug\":\"football\",\"id\":1},\"userCount\":1097444,\"nameCode\":\"ARS\",\"disabled\":false,\"national\":false,\"type\":0,\"id\":42,\"teamColors\":{\"primary\":\"#cc0000\",\"secondary\":\"#ffffff\",\"text\":\"#ffffff\"},\"fieldTranslations\":{\"nameTranslation\":{\"ar\":\"\\u0623\\u0631\\u0633\\u0646\\u0627\\u0644\"},\"shortNameTranslation\":{}}},\"descriptions\":[],\"promotion\":{\"text\":\"Champions League\",\"id\":804},\"position\":3,\"matches\":21,\"wins\":13,\"scoresFor\":42,\"scoresAgainst\":20,\"id\":866347,\"losses\":4,\"draws\":4,\"points\":43},{\"team\":{\"name\":\"Aston Villa\",\"slug\":\"aston-villa\",\"shortName\":\"Aston Villa\",\"gender\":\"M\",\"sport\":{\"name\":\"Football\",\"slug\":\"football\",\"id\":1},\"userCount\":288493,\"nameCode\":\"AVL\",\"disabled\":false,\"national\":false,\"type\":0,\"id\":40,\"teamColors\":{\"primary\":\"#670e36\",\"secondary\":\"#94bee5\",\"text\":\"#94bee5\"},\"fieldTranslations\":{\"nameTranslation\":{\"ar\":\"\\u0623\\u0633\\u062a\\u0648\\u0646 \\u0641\\u064a\\u0644\\u0627\"},\"shortNameTranslation\":{}}},\"descriptions\":[],\"promotion\":{\"text\":\"Champions League\",\"id\":804},\"position\":4,\"matches\":21,\"wins\":13,\"scoresFor\":43,\"scoresAgainst\":27,\"id\":866348,\"losses\":4,\"draws\":4,\"points\":43},{\"team\":{\"name\":\"Tottenham Hotspur\",\"slug\":\"tottenham-hotspur\",\"shortName\":\"Tottenham \",\"gender\":\"M\",\"sport\":{\"name\":\"Football\",\"slug\":\"football\",\"id\":1},\"userCount\":673350,\"nameCode\":\"TOT\",\"disabled\":false,\"national\":false,\"type\":0,\"id\":33,\"teamColors\":{\"primary\":\"#ffffff\",\"secondary\":\"#000066\",\"text\":\"#000066\"},\"fieldTranslations\":{\"nameTranslation\":{\"ar\":\"\\u062a\\u0648\\u062a\\u0646\\u0647\\u0627\\u0645 \\u0647\\u0648\\u062a\\u0633\\u0628\\u064a\\u0631\"},\"shortNameTranslation\":{}}},\"descriptions\":[],\"promotion\":{\"text\":\"UEFA Europa League\",\"id\":808},\"position\":5,\"matches\":21,\"wins\":12,\"scoresFor\":44,\"scoresAgainst\":31,\"id\":866363,\"losses\":5,\"draws\":4,\"points\":40},{\"team\":{\"name\":\"West Ham United\",\"slug\":\"west-ham-united\",\"shortName\":\"West Ham\",\"gender\":\"M\",\"sport\":{\"name\":\"Football\",\"slug\":\"football\",\"id\":1},\"userCount\":298503,\"nameCode\":\"WHU\",\"disabled\":false,\"national\":false,\"type\":0,\"id\":37,\"teamColors\":{\"primary\":\"#66192c\",\"secondary\":\"#59b3e4\",\"text\":\"#59b3e4\"},\"fieldTranslations\":{\"nameTranslation\":{\"ar\":\"\\u0648\\u0633\\u062a \\u0647\\u0627\\u0645 \\u064a\\u0648\\u0646\\u0627\\u064a\\u062a\\u062f\"},\"shortNameTranslation\":{}}},\"descriptions\":[],\"position\":6,\"matches\":21,\"wins\":10,\"scoresFor\":35,\"scoresAgainst\":32,\"id\":866364,\"losses\":6,\"draws\":5,\"points\":35},{\"team\":{\"name\":\"Brighton & Hove Albion\",\"slug\":\"brighton-and-hove-albion\",\"shortName\":\"Brighton\",\"gender\":\"M\",\"sport\":{\"name\":\"Football\",\"slug\":\"football\",\"id\":1},\"userCount\":275538,\"nameCode\":\"BHA\",\"disabled\":false,\"national\":false,\"type\":0,\"id\":30,\"teamColors\":{\"primary\":\"#0054a6\",\"secondary\":\"#ffffff\",\"text\":\"#ffffff\"},\"fieldTranslations\":{\"nameTranslation\":{\"ar\":\"\\u0628\\u0631\\u0627\\u064a\\u062a\\u0648\\u0646 \\u0623\\u0646\\u062f \\u0647\\u0648\\u0641 \\u0623\\u0644\\u0628\\u064a\\u0648\\u0646\"},\"shortNameTranslation\":{}}},\"descriptions\":[],\"position\":7,\"matches\":21,\"wins\":8,\"scoresFor\":38,\"scoresAgainst\":33,\"id\":866350,\"losses\":5,\"draws\":8,\"points\":32},{\"team\":{\"name\":\"Manchester United\",\"slug\":\"manchester-united\",\"shortName\":\"Man Utd\",\"gender\":\"M\",\"sport\":{\"name\":\"Football\",\"slug\":\"football\",\"id\":1},\"userCount\":1389390,\"nameCode\":\"MUN\",\"disabled\":false,\"national\":false,\"type\":0,\"id\":35,\"teamColors\":{\"primary\":\"#ff0000\",\"secondary\":\"#373737\",\"text\":\"#373737\"},\"fieldTranslations\":{\"nameTranslation\":{\"ar\":\"\\u0645\\u0627\\u0646\\u062a\\u0634\\u0633\\u062a\\u0631 \\u064a\\u0648\\u0646\\u0627\\u064a\\u062a\\u062f\"},\"shortNameTranslation\":{}}},\"descriptions\":[],\"position\":8,\"matches\":21,\"wins\":10,\"scoresFor\":24,\"scoresAgainst\":29,\"id\":866359,\"losses\":9,\"draws\":2,\"points\":32},{\"team\":{\"name\":\"Chelsea\",\"slug\":\"chelsea\",\"shortName\":\"Chelsea\",\"gender\":\"M\",\"sport\":{\"name\":\"Football\",\"slug\":\"football\",\"id\":1},\"userCount\":1036452,\"nameCode\":\"CHE\",\"disabled\":false,\"national\":false,\"type\":0,\"id\":38,\"teamColors\":{\"primary\":\"#0310a7\",\"secondary\":\"#ffffff\",\"text\":\"#ffffff\"},\"fieldTranslations\":{\"nameTranslation\":{\"ar\":\"\\u062a\\u0634\\u064a\\u0644\\u0633\\u064a\"},\"shortNameTranslation\":{}}},\"descriptions\":[],\"position\":9,\"matches\":21,\"wins\":9,\"scoresFor\":35,\"scoresAgainst\":31,\"id\":866352,\"losses\":8,\"draws\":4,\"points\":31},{\"team\":{\"name\":\"Newcastle United\",\"slug\":\"newcastle-united\",\"shortName\":\"Newcastle\",\"gender\":\"M\",\"sport\":{\"name\":\"Football\",\"slug\":\"football\",\"id\":1},\"userCount\":435422,\"nameCode\":\"NEW\",\"disabled\":false,\"national\":false,\"type\":0,\"id\":39,\"teamColors\":{\"primary\":\"#000000\",\"secondary\":\"#ffffff\",\"text\":\"#ffffff\"},\"fieldTranslations\":{\"nameTranslation\":{\"ar\":\"\\u0646\\u064a\\u0648\\u0643\\u0627\\u0633\\u0644 \\u064a\\u0648\\u0646\\u0627\\u064a\\u062a\\u062f\"},\"shortNameTranslation\":{}}},\"descriptions\":[],\"position\":10,\"matches\":21,\"wins\":9,\"scoresFor\":41,\"scoresAgainst\":32,\"id\":866360,\"losses\":10,\"draws\":2,\"points\":29},{\"team\":{\"name\":\"Wolverhampton\",\"slug\":\"wolverhampton\",\"shortName\":\"Wolves\",\"gender\":\"M\",\"sport\":{\"name\":\"Football\",\"slug\":\"football\",\"id\":1},\"userCount\":174178,\"nameCode\":\"WOL\",\"disabled\":false,\"national\":false,\"type\":0,\"id\":3,\"teamColors\":{\"primary\":\"#ff9900\",\"secondary\":\"#000000\",\"text\":\"#000000\"},\"fieldTranslations\":{\"nameTranslation\":{\"ar\":\"\\u0648\\u0648\\u0644\\u0641\\u0631\\u0647\\u0627\\u0645\\u0628\\u062a\\u0648\\u0646 \\u0648\\u0627\\u0646\\u062f\\u0631\\u0631\\u0632\"},\"shortNameTranslation\":{}}},\"descriptions\":[],\"position\":11,\"matches\":21,\"wins\":8,\"scoresFor\":30,\"scoresAgainst\":31,\"id\":866365,\"losses\":8,\"draws\":5,\"points\":29},{\"team\":{\"name\":\"Bournemouth\",\"slug\":\"bournemouth\",\"shortName\":\"Bournemouth\",\"gender\":\"M\",\"sport\":{\"name\":\"Football\",\"slug\":\"football\",\"id\":1},\"userCount\":109450,\"nameCode\":\"BOU\",\"disabled\":false,\"national\":false,\"type\":0,\"id\":60,\"teamColors\":{\"primary\":\"#000000\",\"secondary\":\"#cc0000\",\"text\":\"#cc0000\"},\"fieldTranslations\":{\"nameTranslation\":{\"ar\":\"\\u0628\\u0648\\u0631\\u0646\\u0645\\u0648\\u062b\"},\"shortNameTranslation\":{}}},\"descriptions\":[],\"position\":12,\"matches\":20,\"wins\":7,\"scoresFor\":28,\"scoresAgainst\":39,\"id\":866346,\"losses\":9,\"draws\":4,\"points\":25},{\"team\":{\"name\":\"Fulham\",\"slug\":\"fulham\",\"shortName\":\"Fulham\",\"gender\":\"M\",\"sport\":{\"name\":\"Football\",\"slug\":\"football\",\"id\":1},\"userCount\":170314,\"nameCode\":\"FUL\",\"disabled\":false,\"national\":false,\"type\":0,\"id\":43,\"teamColors\":{\"primary\":\"#ffffff\",\"secondary\":\"#000000\",\"text\":\"#000000\"},\"fieldTranslations\":{\"nameTranslation\":{\"ar\":\"\\u0641\\u0648\\u0644\\u0647\\u0627\\u0645\"},\"shortNameTranslation\":{}}},\"descriptions\":[],\"position\":13,\"matches\":21,\"wins\":7,\"scoresFor\":28,\"scoresAgainst\":36,\"id\":866355,\"losses\":11,\"draws\":3,\"points\":24},{\"team\":{\"name\":\"Brentford\",\"slug\":\"brentford\",\"shortName\":\"Brentford\",\"gender\":\"M\",\"sport\":{\"name\":\"Football\",\"slug\":\"football\",\"id\":1},\"userCount\":143954,\"nameCode\":\"BRE\",\"disabled\":false,\"national\":false,\"type\":0,\"id\":50,\"teamColors\":{\"primary\":\"#ffffff\",\"secondary\":\"#ff0000\",\"text\":\"#ff0000\"},\"fieldTranslations\":{\"nameTranslation\":{\"ar\":\"\\u0628\\u0631\\u064a\\u0646\\u062a\\u0641\\u0648\\u0631\\u062f\"},\"shortNameTranslation\":{}}},\"descriptions\":[],\"position\":14,\"matches\":20,\"wins\":6,\"scoresFor\":29,\"scoresAgainst\":33,\"id\":866349,\"losses\":10,\"draws\":4,\"points\":22},{\"team\":{\"name\":\"Crystal Palace\",\"slug\":\"crystal-palace\",\"shortName\":\"Crystal Palace\",\"gender\":\"M\",\"sport\":{\"name\":\"Football\",\"slug\":\"football\",\"id\":1},\"userCount\":151231,\"nameCode\":\"CRY\",\"disabled\":false,\"national\":false,\"type\":0,\"id\":7,\"teamColors\":{\"primary\":\"#0033ff\",\"secondary\":\"#b90d2b\",\"text\":\"#b90d2b\"},\"fieldTranslations\":{\"nameTranslation\":{\"ar\":\"\\u0643\\u0631\\u064a\\u0633\\u062a\\u0627\\u0644 \\u0628\\u0627\\u0644\\u0627\\u0633\"},\"shortNameTranslation\":{}}},\"descriptions\":[],\"position\":15,\"matches\":21,\"wins\":5,\"scoresFor\":22,\"scoresAgainst\":34,\"id\":866353,\"losses\":10,\"draws\":6,\"points\":21},{\"team\":{\"name\":\"Nottingham Forest\",\"slug\":\"nottingham-forest\",\"shortName\":\"Forest\",\"gender\":\"M\",\"sport\":{\"name\":\"Football\",\"slug\":\"football\",\"id\":1},\"userCount\":129263,\"nameCode\":\"NFO\",\"disabled\":false,\"national\":false,\"type\":0,\"id\":14,\"teamColors\":{\"primary\":\"#cc0000\",\"secondary\":\"#cc0000\",\"text\":\"#cc0000\"},\"fieldTranslations\":{\"nameTranslation\":{\"ar\":\"\\u0646\\u0648\\u062a\\u0646\\u062c\\u0647\\u0627\\u0645 \\u0641\\u0648\\u0631\\u064a\\u0633\\u062a\"},\"shortNameTranslation\":{}}},\"descriptions\":[],\"position\":16,\"matches\":21,\"wins\":5,\"scoresFor\":26,\"scoresAgainst\":38,\"id\":866361,\"losses\":11,\"draws\":5,\"points\":20},{\"team\":{\"name\":\"Everton\",\"slug\":\"everton\",\"shortName\":\"Everton\",\"gender\":\"M\",\"sport\":{\"name\":\"Football\",\"slug\":\"football\",\"id\":1},\"userCount\":210356,\"nameCode\":\"EVE\",\"disabled\":false,\"national\":false,\"type\":0,\"id\":48,\"teamColors\":{\"primary\":\"#274488\",\"secondary\":\"#ffffff\",\"text\":\"#ffffff\"},\"fieldTranslations\":{\"nameTranslation\":{\"ar\":\"\\u0625\\u064a\\u0641\\u0631\\u062a\\u0648\\u0646\"},\"shortNameTranslation\":{}}},\"descriptions\":[{\"text\":\"10 points deducted due to decision by the Federation\",\"id\":375}],\"position\":17,\"matches\":21,\"wins\":8,\"scoresFor\":24,\"scoresAgainst\":28,\"id\":866354,\"losses\":10,\"draws\":3,\"points\":17},{\"team\":{\"name\":\"Luton Town\",\"slug\":\"luton-town\",\"shortName\":\"Luton\",\"gender\":\"M\",\"sport\":{\"name\":\"Football\",\"slug\":\"football\",\"id\":1},\"userCount\":77456,\"nameCode\":\"LUT\",\"disabled\":false,\"national\":false,\"type\":0,\"id\":72,\"teamColors\":{\"primary\":\"#ff3300\",\"secondary\":\"#000033\",\"text\":\"#000033\"},\"fieldTranslations\":{\"nameTranslation\":{\"ar\":\"\\u0644\\u0648\\u062a\\u0648\\u0646 \\u062a\\u0627\\u0648\\u0646\"},\"shortNameTranslation\":{}}},\"descriptions\":[],\"promotion\":{\"text\":\"Relegation\",\"id\":3},\"position\":18,\"matches\":20,\"wins\":4,\"scoresFor\":24,\"scoresAgainst\":38,\"id\":866357,\"losses\":12,\"draws\":4,\"points\":16},{\"team\":{\"name\":\"Burnley\",\"slug\":\"burnley\",\"shortName\":\"Burnley\",\"gender\":\"M\",\"sport\":{\"name\":\"Football\",\"slug\":\"football\",\"id\":1},\"userCount\":112700,\"nameCode\":\"BUR\",\"disabled\":false,\"national\":false,\"type\":0,\"id\":6,\"teamColors\":{\"primary\":\"#81204c\",\"secondary\":\"#8fd2f4\",\"text\":\"#8fd2f4\"},\"fieldTranslations\":{\"nameTranslation\":{\"ar\":\"\\u0628\\u064a\\u0631\\u0646\\u0644\\u064a\"},\"shortNameTranslation\":{}}},\"descriptions\":[],\"promotion\":{\"text\":\"Relegation\",\"id\":3},\"position\":19,\"matches\":21,\"wins\":3,\"scoresFor\":21,\"scoresAgainst\":42,\"id\":866351,\"losses\":15,\"draws\":3,\"points\":12},{\"team\":{\"name\":\"Sheffield United\",\"slug\":\"sheffield-united\",\"shortName\":\"Sheffield Utd\",\"gender\":\"M\",\"sport\":{\"name\":\"Football\",\"slug\":\"football\",\"id\":1},\"userCount\":87962,\"nameCode\":\"SHU\",\"disabled\":false,\"national\":false,\"type\":0,\"id\":15,\"teamColors\":{\"primary\":\"#ffffff\",\"secondary\":\"#ff0000\",\"text\":\"#ff0000\"},\"fieldTranslations\":{\"nameTranslation\":{\"ar\":\"\\u0634\\u064a\\u0641\\u064a\\u0644\\u062f \\u064a\\u0648\\u0646\\u0627\\u064a\\u062a\\u062f\"},\"shortNameTranslation\":{}}},\"descriptions\":[],\"promotion\":{\"text\":\"Relegation\",\"id\":3},\"position\":20,\"matches\":21,\"wins\":2,\"scoresFor\":17,\"scoresAgainst\":51,\"id\":866362,\"losses\":15,\"draws\":4,\"points\":10}],\"id\":104941,\"updatedAtTimestamp\":1699108198}]}\n"
     ]
    }
   ],
   "source": [
    "import import_ipynb\n",
    "import teamLink_23"
   ]
  },
  {
   "cell_type": "code",
   "execution_count": 2,
   "id": "7edda2b1",
   "metadata": {
    "pycharm": {
     "name": "#%%\n"
    }
   },
   "outputs": [],
   "source": [
    "import pandas as pd\n",
    "import requests\n",
    "import time\n",
    "from bs4 import BeautifulSoup"
   ]
  },
  {
   "cell_type": "markdown",
   "id": "038ac406",
   "metadata": {
    "pycharm": {
     "name": "#%% md\n"
    }
   },
   "source": [
    "This helps us get the list of all current players and their profile links. We get the links to the team from teamLink_23.Tlink().\n",
    "\n",
    "```\n",
    "playerLinks ---> list of players\n",
    "teamLink_23.TLink ---> links of the teams in the league.\n",
    "```"
   ]
  },
  {
   "cell_type": "code",
   "execution_count": 5,
   "id": "f572444c",
   "metadata": {
    "pycharm": {
     "name": "#%%\n"
    }
   },
   "outputs": [],
   "source": [
    "def playerLinks(HT):\n",
    "    link = teamLink_23.TLink(HT)\n",
    "    resp = requests.get(f'{link}#tab:sqaud', \n",
    "                    headers={'user-agent': 'Mozilla/5.0 (Macintosh; Intel Mac OS X 10_15_7) AppleWebKit/537.36 (KHTML, like Gecko) Chrome/120.0.0.0 Safari/537.36'}\n",
    "                   )\n",
    "    soup = BeautifulSoup(resp.text, 'lxml')\n",
    "    \n",
    "    squad = soup.find_all('div', class_='sc-fqkvVR dHiEKv')\n",
    "\n",
    "    dict_plLinks = {}\n",
    "    players = []\n",
    "    pLinks = []\n",
    "    \n",
    "    for pl in squad:\n",
    "        cat = pl.find_all('div', color='onSurface.nLv1')\n",
    "        for p in cat:\n",
    "            players.append(p.text.strip())\n",
    "        links = pl.find_all('a', href=True)\n",
    "        for l in links:\n",
    "            pLinks.append(l.get('href'))\n",
    "    #dict_plLinks = {'Player': players, 'PlayerLink': pLinks}\n",
    "    #df_pLinks = pd.DataFrame(dict_plLinks)\n",
    "    for i in range(len(players)):\n",
    "        dict_plLinks.update({players[i]: pLinks[i]})\n",
    "    return dict_plLinks"
   ]
  },
  {
   "cell_type": "code",
   "execution_count": 6,
   "id": "e8fd7e77",
   "metadata": {
    "pycharm": {
     "name": "#%%\n"
    }
   },
   "outputs": [
    {
     "data": {
      "text/plain": [
       "{'Christopher Nkunku': '/player/christopher-nkunku/769333',\n",
       " 'Raheem Sterling': '/player/raheem-sterling/138534',\n",
       " 'Nicolas Jackson': '/player/nicolas-jackson/1085381',\n",
       " 'Noni Madueke': '/player/noni-madueke/966547',\n",
       " 'Armando Broja': '/player/armando-broja/996985',\n",
       " 'Deivid Washington': '/player/deivid-washington/1485371',\n",
       " 'Diego Moreira': '/player/diego-moreira/1142233',\n",
       " 'Dujuan Richards': '/player/dujuan-richards/1498836',\n",
       " 'Enzo Fernández': '/player/enzo-fernandez/974505',\n",
       " 'Mykhaylo Mudryk': '/player/mykhaylo-mudryk/958966',\n",
       " 'Cole Palmer': '/player/cole-palmer/982780',\n",
       " 'Moisés Caicedo': '/player/moises-caicedo/987650',\n",
       " 'Ben Chilwell': '/player/ben-chilwell/802695',\n",
       " 'Conor Gallagher': '/player/conor-gallagher/904970',\n",
       " 'Andrey Santos': '/player/santos-andrey/1105779',\n",
       " 'Roméo Lavia': '/player/romeo-lavia/1069488',\n",
       " 'Carney Chukwuemeka': '/player/carney-chukwuemeka/994556',\n",
       " 'Lesley Ugochukwu': '/player/lesley-ugochukwu/1048916',\n",
       " 'Thiago Silva': '/player/thiago-silva/33541',\n",
       " 'Reece James': '/player/reece-james/885908',\n",
       " 'Marc Cucurella': '/player/marc-cucurella/794939',\n",
       " 'Wesley Fofana': '/player/wesley-fofana/923894',\n",
       " 'Benoît Badiashile': '/player/benoit-badiashile/904827',\n",
       " 'Levi Colwill': '/player/levi-colwill/996911',\n",
       " 'Malo Gusto': '/player/gusto-malo/996958',\n",
       " 'Trevoh Chalobah': '/player/trevoh-chalobah/826134',\n",
       " 'Axel Disasi': '/player/axel-disasi/827243',\n",
       " 'Malang Sarr': '/player/malang-sarr/826203',\n",
       " 'Alfie Gilchrist': '/player/alfie-gilchrist/1114837',\n",
       " 'Robert Sánchez': '/player/robert-sanchez/920546',\n",
       " 'Đorđe Petrović': '/player/dorde-petrovic/882604',\n",
       " 'Marcus Bettinelli': '/player/marcus-bettinelli/257993',\n",
       " 'Lucas Bergström': '/player/lucas-bergstrom/996903'}"
      ]
     },
     "execution_count": 6,
     "metadata": {},
     "output_type": "execute_result"
    }
   ],
   "source": [
    "playerLinks('Chelsea')"
   ]
  }
 ],
 "metadata": {
  "kernelspec": {
   "display_name": "Python 3 (ipykernel)",
   "language": "python",
   "name": "python3"
  },
  "language_info": {
   "codemirror_mode": {
    "name": "ipython",
    "version": 3
   },
   "file_extension": ".py",
   "mimetype": "text/x-python",
   "name": "python",
   "nbconvert_exporter": "python",
   "pygments_lexer": "ipython3",
   "version": "3.11.5"
  }
 },
 "nbformat": 4,
 "nbformat_minor": 5
}
